{
 "cells": [
  {
   "cell_type": "markdown",
   "metadata": {},
   "source": [
    "---\n",
    "title: 'Лабораторна робота №7. Словники, кортежі. Обробка винятків (empty)'\n",
    "description:\n",
    "author: \"&copy; [<span style='color: blue;'>Zelenina Polina </span>](https://github.com/Polina-Zelenina/Zelenina_project), 2023\"\n",
    "date: \"25.10.2023\"\n",
    "lang: ukr\n",
    "format:\n",
    "  html:\n",
    "    code-fold: true\n",
    "    toc: true # меню\n",
    "    toc_float: # спливаюче меню  \n",
    "      collapsed: true # авто\n",
    "      number_sections: true\n",
    "jupyter: python3\n",
    "---"
   ]
  },
  {
   "cell_type": "markdown",
   "metadata": {},
   "source": [
    "__Мета:__ _навчитися працювати зі структурами даних Кортеж та Словник. Навчитись обробляти основні типи винятків_"
   ]
  },
  {
   "cell_type": "markdown",
   "metadata": {
    "tags": []
   },
   "source": [
    "## Що ви будете вміти?\n",
    "* створювати та обробляти кортежі (`tuple`).\n",
    "* створювати і обробляти словники (`dict`).\n",
    "* сумісно викростовувати словники і кортежі\n",
    "* обробляти основні типи винятків."
   ]
  },
  {
   "cell_type": "markdown",
   "metadata": {},
   "source": [
    "## Робота зі словниками"
   ]
  },
  {
   "cell_type": "markdown",
   "metadata": {},
   "source": [
    "### Приклад 1\n",
    "\n",
    "Створіть кортеж, який містить інформацію про результати іспитів з трьох предметів для студента (наприклад, математика, фізика та хімія). Виведіть на екран середній бал та максимальний бал."
   ]
  },
  {
   "cell_type": "code",
   "execution_count": 36,
   "metadata": {},
   "outputs": [
    {
     "name": "stdout",
     "output_type": "stream",
     "text": [
      "Середній бал: 81.66666666666667\n",
      "Максимальний бал: 90\n"
     ]
    }
   ],
   "source": [
    "# results = (80, 75, 90)\n",
    "\n",
    "average_score = sum(results) / len(results)\n",
    "max_score = max(results)\n",
    "\n",
    "print(f\"Середній бал: {average_score}\")\n",
    "print(f\"Максимальний бал: {max_score}\")"
   ]
  },
  {
   "cell_type": "markdown",
   "metadata": {},
   "source": [
    "У цьому коді ми створюємо кортеж `results`, який містить оцінки студента з трьох предметів. Потім ми обчислюємо середній бал, використовуючи вбудовані функції `sum` та `len`, та максимальний бал, використовуючи вбудовану функцію `max`. Нарешті, ми виводимо ці значення на екран за допомогою функції `print`. Водночас ми продемонстрували один з варіантів форматованого виводу."
   ]
  },
  {
   "cell_type": "markdown",
   "metadata": {},
   "source": [
    "### Приклад 2 "
   ]
  },
  {
   "cell_type": "markdown",
   "metadata": {},
   "source": [
    "Створіть програму, яка буде обчислювати площу трикутника за трьома сторонами, які користувач введе з клавіатури. Збережіть введені користувачем значення за допомогою кортежів та виведіть їх на екран."
   ]
  },
  {
   "cell_type": "code",
   "execution_count": 37,
   "metadata": {},
   "outputs": [
    {
     "name": "stdin",
     "output_type": "stream",
     "text": [
      "Введіть довжину першої сторони трикутника:  1\n",
      "Введіть довжину другої сторони трикутника:  2\n",
      "Введіть довжину третьої сторони трикутника:  3\n"
     ]
    },
    {
     "name": "stdout",
     "output_type": "stream",
     "text": [
      "Довжина сторін трикутника: (1.0, 2.0, 3.0)\n",
      "Площа трикутника: 0.0\n"
     ]
    }
   ],
   "source": [
    "a = float(input(\"Введіть довжину першої сторони трикутника: \"))\n",
    "b = float(input(\"Введіть довжину другої сторони трикутника: \"))\n",
    "c = float(input(\"Введіть довжину третьої сторони трикутника: \"))\n",
    "\n",
    "# обчислюємо півпериметр\n",
    "p = (a + b + c) / 2\n",
    "\n",
    "# обчислюємо площу трикутника за формулою Герона\n",
    "area = (p * (p - a) * (p - b) * (p - c)) ** 0.5\n",
    "\n",
    "# зберігаємо введені користувачем значення у кортеж\n",
    "triangle_sides = (a, b, c)\n",
    "\n",
    "# виводимо на екран введені користувачем значення та площу трикутника\n",
    "print(f\"Довжина сторін трикутника: {triangle_sides}\")\n",
    "print(f\"Площа трикутника: {area}\")\n"
   ]
  },
  {
   "cell_type": "markdown",
   "metadata": {},
   "source": [
    "У цьому прикладі ми використовуємо кортеж `triangle_sides`, щоб зберегти довжини трьох сторін трикутника, які введені користувачем з клавіатури. "
   ]
  },
  {
   "cell_type": "markdown",
   "metadata": {},
   "source": [
    "### Приклад 3 "
   ]
  },
  {
   "cell_type": "markdown",
   "metadata": {},
   "source": [
    "Напишіть програму, яка змінює порядок елементів у кортежі. Користувач повинен ввести кортеж, а програма повинна вивести його елементи у зворотному порядку."
   ]
  },
  {
   "cell_type": "code",
   "execution_count": 38,
   "metadata": {},
   "outputs": [
    {
     "name": "stdin",
     "output_type": "stream",
     "text": [
      "Введіть елементи кортежу, розділені комою:  1, 2, 3, 4, 5\n"
     ]
    },
    {
     "name": "stdout",
     "output_type": "stream",
     "text": [
      "Зворотний порядок елементів кортежу: (' 5', ' 4', ' 3', ' 2', '1')\n"
     ]
    }
   ],
   "source": [
    "t = tuple(input(\"Введіть елементи кортежу, розділені комою: \").split(','))\n",
    "\n",
    "# змінюємо порядок елементів у кортежі\n",
    "reversed_t = t[::-1]\n",
    "\n",
    "# виводимо зворотний порядок елементів на екран\n",
    "print(f\"Зворотний порядок елементів кортежу: {reversed_t}\")"
   ]
  },
  {
   "cell_type": "markdown",
   "metadata": {},
   "source": [
    "У цьому прикладі ми використовуємо оператор зрізу `[::]`, щоб змінити порядок елементів у кортежі `t` на зворотний порядок. Потім ми виводимо на екран зворотний порядок елементів у новому кортежі `reversed_t`.\n",
    "\n",
    "Наприклад, якщо користувач введе `\"1,2,3,4,5\"`, програма виведе на екран: \"Зворотний порядок елементів кортежу: `('5', '4', '3', '2', '1')`."
   ]
  },
  {
   "cell_type": "markdown",
   "metadata": {},
   "source": [
    "### Завдання 1"
   ]
  },
  {
   "cell_type": "markdown",
   "metadata": {},
   "source": [
    "Напишіть програму, яка створює кортеж зі списку чисел, а потім виводить на екран всі числа, які менші за задане число `n`. Умова: користувач вводить число `n`, і   щоб створити новий список `result`, який містить всі числа з кортежу, які менші за `n`, реалізувати за допомогою генератора списків."
   ]
  },
  {
   "cell_type": "code",
   "execution_count": 14,
   "metadata": {},
   "outputs": [
    {
     "name": "stdout",
     "output_type": "stream",
     "text": [
      "100\n",
      "[19, 85, 82, 28, 29, 20, 1, 69, 72, 54]\n"
     ]
    }
   ],
   "source": [
    "from random import randint as r_int\n",
    "\n",
    "list_to_tuple = tuple([r_int(1, 100) for _ in range(10)])\n",
    "\n",
    "number = int(input())\n",
    "\n",
    "list_to_lower_numbers = [list_to_tuple[i] for i in range(len(list_to_tuple)) if list_to_tuple[i] < number]\n",
    "\n",
    "print(list_to_lower_numbers)"
   ]
  },
  {
   "cell_type": "markdown",
   "metadata": {},
   "source": [
    "### Завдання 2\n",
    "Напишіть програму, яка створює кортеж з трьох елементів, які є рядками, та з'єднує їх в один рядок з комою як роздільником. Примітка: з'єднати рядки також можна за допомогою методу `.joint()`"
   ]
  },
  {
   "cell_type": "code",
   "execution_count": 4,
   "metadata": {},
   "outputs": [
    {
     "name": "stdout",
     "output_type": "stream",
     "text": [
      "London is\n",
      "capital of\n",
      "Great Britain\n",
      "London is, capital of, Great Britain\n"
     ]
    }
   ],
   "source": [
    "tuple_of_strings = tuple([input() for _ in range(3)])\n",
    "\n",
    "print(', '.join(tuple_of_strings))"
   ]
  },
  {
   "cell_type": "markdown",
   "metadata": {},
   "source": [
    "### Завдання 3 "
   ]
  },
  {
   "cell_type": "markdown",
   "metadata": {},
   "source": [
    "Створіть словник, який містить інформацію про книги в бібліотеці. Ключами будуть назви книг, а значеннями - автори, рік видання та кількість сторінок. Виведіть на екран інформацію про книгу, введену користувачем."
   ]
  },
  {
   "cell_type": "code",
   "execution_count": 6,
   "metadata": {},
   "outputs": [
    {
     "name": "stdout",
     "output_type": "stream",
     "text": [
      "Гаррі Поттер\n",
      "Автор: Дж. К. Роулінг\n",
      "Рік видання: 1997\n",
      "Кількість сторінок: 451\n"
     ]
    }
   ],
   "source": [
    "dict_of_books = {\n",
    "    'Гаррі Поттер': {\n",
    "        'Автор': 'Дж. К. Роулінг',\n",
    "        'Рік видання': 1997,\n",
    "        'Кількість сторінок': 451\n",
    "        },\n",
    "    'Алісині пригоди у Дивокраї': {\n",
    "        'Автор': 'Льюїс Керролл',\n",
    "        'Рік видання': 1865,\n",
    "        'Кількість сторінок': 144\n",
    "        },\n",
    "    'Маленький принц': {\n",
    "        'Автор': 'Антуан де Сент-Екзюпері',\n",
    "        'Рік видання': 1943,\n",
    "        'Кількість сторінок': 96\n",
    "        },\n",
    "    'Тореадори з Васюківки': {\n",
    "        'Автор': 'Всеволод Нестайко',\n",
    "        'Рік видання': 1973,\n",
    "        'Кількість сторінок': 544\n",
    "        },\n",
    "    'Пригоди Олівера Твіста': {\n",
    "        'Автор': 'Чарлз Діккенс',\n",
    "        'Рік видання': 1838,\n",
    "        'Кількість сторінок': 379\n",
    "        },\n",
    "    }\n",
    "name_author = input()\n",
    "for i in dict_of_books:\n",
    "    isFlag = None\n",
    "    if name_author == i:\n",
    "        for j in dict_of_books[i]:\n",
    "            print(f\"{j}: {dict_of_books[i][j]}\")\n",
    "        isFlag = True\n",
    "        break\n",
    "\n",
    "if not isFlag:\n",
    "    print(\"Не змогли знайти Вашу книгу\")"
   ]
  },
  {
   "cell_type": "markdown",
   "metadata": {},
   "source": [
    "## Сумісна робота зі словниками і кортежами"
   ]
  },
  {
   "cell_type": "markdown",
   "metadata": {},
   "source": [
    "### Приклад 1"
   ]
  },
  {
   "cell_type": "markdown",
   "metadata": {},
   "source": [
    "Написати програму, яка веде облік студентів групи, забезпечуючи можливість зберігати ім'я і прізвище студента та його оцінки, і виводить середній бал по предметах."
   ]
  },
  {
   "cell_type": "code",
   "execution_count": 22,
   "metadata": {},
   "outputs": [],
   "source": [
    "# school_class = {}\n",
    "\n",
    "# while True:\n",
    "#     name = input(\"Enter the student's name: \")\n",
    "#     if name == '':\n",
    "#         break\n",
    "    \n",
    "#     score = int(input(\"Enter the student's score (0-10): \"))\n",
    "#     if score not in range(0, 11):\n",
    "# \t    break\n",
    "    \n",
    "#     if name in school_class:\n",
    "#         school_class[name] += (score,)\n",
    "#     else:\n",
    "#         school_class[name] = (score,)\n",
    "        \n",
    "# for name in sorted(school_class.keys()):\n",
    "#     adding = 0\n",
    "#     counter = 0\n",
    "#     for score in school_class[name]:\n",
    "#         adding += score\n",
    "#         counter += 1\n",
    "#     print(name, \":\", adding / counter)"
   ]
  },
  {
   "cell_type": "markdown",
   "metadata": {},
   "source": [
    "### Завдання 4"
   ]
  },
  {
   "cell_type": "markdown",
   "metadata": {},
   "source": [
    "Напишіть програму, яка створює словник, що містить інформацію про студентів, використовуючи вказані кортежі в якості значень. Кожен ключ -- це прізвище студента. Виведіть на екран інформацію про студента, введеного користувачем."
   ]
  },
  {
   "cell_type": "code",
   "execution_count": 16,
   "metadata": {},
   "outputs": [
    {
     "name": "stdout",
     "output_type": "stream",
     "text": [
      "Mario\n",
      "Height: 131, Weight: 40, Group: Yt-1-1\n"
     ]
    }
   ],
   "source": [
    "students_list = [\n",
    "    ['Jace', 197, 84, 'Kt-81'],\n",
    "    ['Olgerd', 174, 55, 'Pga-99'],\n",
    "    ['Mario', 131, 40, 'Yt-1-1'],\n",
    "    ['Viktor', 198, 96, 'Mpt-56'],\n",
    "    ['Jinx', 164, 44, 'Ap-33'],\n",
    "]\n",
    "\n",
    "dict_values = {i[0]: (i[1], i[2], i[3]) for i in students_list}\n",
    "name_student = input()\n",
    "\n",
    "for i in dict_values:\n",
    "    if i == name_student:\n",
    "        print(f\"Height: {dict_values[i][0]}, Weight: {dict_values[i][1]}, Group: {dict_values[i][2]}\")\n",
    "        break"
   ]
  },
  {
   "cell_type": "markdown",
   "metadata": {},
   "source": [
    "### Завдання 5"
   ]
  },
  {
   "cell_type": "markdown",
   "metadata": {},
   "source": [
    "Створіть словник, який містить інформацію про більше, ніж один номер телефону для кожного з контактів в телефонній книзі. Ключами будуть імена контактів, а значеннями - список їхніх номерів телефонів. Напишіть функцію, яка дозволяє додати новий номер телефону до списку номерів телефону певного контакту. Потім виведіть на екран список номерів телефонів для всіх контактів."
   ]
  },
  {
   "cell_type": "code",
   "execution_count": 17,
   "metadata": {},
   "outputs": [
    {
     "name": "stdout",
     "output_type": "stream",
     "text": [
      "{'Jace': ['0967131242'], 'Carol': ['03921389421132'], 'Viktor': ['31283712848'], 'Mario': ['0673781256817'], 'Jinx': ['37216784617825421673512371'], 'Viktor Belford': ['+3872184627821']}\n"
     ]
    }
   ],
   "source": [
    "def add_new_contact(list_contacts, name, number):\n",
    "    list_contacts.append([name, number])\n",
    "    return list_contacts\n",
    "\n",
    "def find_contacts(list_numbers):\n",
    "    dict_numbers = {}\n",
    "    for i in list_numbers:\n",
    "        if i[0] not in dict_numbers:\n",
    "            dict_numbers[i[0]] = [i[1]]\n",
    "        else:\n",
    "            dict_numbers[i[0]].append(i[1])\n",
    "    return dict_numbers\n",
    "\n",
    "list_contacts = [\n",
    "    ['Jace', '0967131242'],\n",
    "    ['Carol', '03921389421132'],\n",
    "    ['Viktor', '31283712848'],\n",
    "    ['Mario', '0673781256817'],\n",
    "    ['Jinx', '37216784617825421673512371']\n",
    "]\n",
    "\n",
    "add_new_contact(list_contacts, 'Viktor Belford', '+3872184627821')\n",
    "dict_contacts = find_contacts(list_contacts)\n",
    "print(dict_contacts)"
   ]
  },
  {
   "cell_type": "markdown",
   "metadata": {},
   "source": [
    "## Завдання для самостіної роботи\n",
    "\n",
    "1. Виконати завдання 1-5 наведені вище у цьому зошиті.\n",
    "\n",
    "1. Створити файл __lab_7_StudentLastName.py__ з написаним кодом. \n",
    "\n",
    "1. Закомітити файл у локальний репозиторій.\n",
    "\n",
    "1. Відправити (\"запушити\") поточну версію Git-проєкта у віддалений репозиторій на GitHub.\n",
    "\n",
    "1. Звіт має складатися з файлу (за основу взяти __цей Python-зошит__)  `lab_7_StudentLastName.ipynb`. (Можливі якісь додакові файли)"
   ]
  },
  {
   "cell_type": "markdown",
   "metadata": {},
   "source": [
    "## Контрольні запитання\n",
    "\n",
    "1. Що виведе наступний код?\n",
    "\n",
    "```\n",
    "my_tuple = (1, 2, 3)\n",
    "print(my_tuple[1:])\n",
    "```\n",
    "* Виведе (2, 3)\n",
    "2. Що виведе наступний код?\n",
    "```\n",
    "my_dict = {'a': 1, 'b': 2, 'c': 3}\n",
    "print(my_dict.get('d', 4))\n",
    "```\n",
    "* Виведе 4, d відсутній у словнику\n",
    "3. Що виведе наступний код?\n",
    "```\n",
    "my_tuple = (1, 2, 3)\n",
    "my_tuple[0] = 4\n",
    "print(my_tuple)\n",
    "```\n",
    "Виведе помилку, кортеж змінювати не можна\n",
    "4. Що виведе наступний код?\n",
    "```\n",
    "my_dict = {'a': 1, 'b': 2, 'c': 3}\n",
    "my_dict.update({'d': 4})\n",
    "print(my_dict)\n",
    "```\n",
    "Виведе {'a': 1, 'b': 2, 'c': 3, 'd': 4}"
   ]
  }
 ],
 "metadata": {
  "kernelspec": {
   "display_name": "Python 3 (ipykernel)",
   "language": "python",
   "name": "python3"
  },
  "language_info": {
   "codemirror_mode": {
    "name": "ipython",
    "version": 3
   },
   "file_extension": ".py",
   "mimetype": "text/x-python",
   "name": "python",
   "nbconvert_exporter": "python",
   "pygments_lexer": "ipython3",
   "version": "3.11.5"
  }
 },
 "nbformat": 4,
 "nbformat_minor": 4
}
