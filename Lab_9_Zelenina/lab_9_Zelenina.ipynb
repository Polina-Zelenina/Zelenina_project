{
 "cells": [
  {
   "cell_type": "markdown",
   "metadata": {},
   "source": [
    "---\n",
    "title: \"Лабораторна робота №9. Рядки. Методи рядків і списків. Частина І\"\n",
    "description:\n",
    "author: \"&copy; [<span style='color: blue;'>Zelenina Polina </span>](https://github.com/Polina-Zelenina/Zelenina_project), 2023\"\n",
    "date: \"30.11.2023\"\n",
    "lang: ukr\n",
    "format:\n",
    "  html:\n",
    "    code-fold: true\n",
    "    toc: true # меню\n",
    "    toc_float: # спливаюче меню  \n",
    "      collapsed: true # авто\n",
    "      number_sections: true\n",
    "jupyter: python3\n",
    "---"
   ]
  },
  {
   "cell_type": "markdown",
   "metadata": {},
   "source": [
    "__Мета:__ _навчитися обробляти рядки за допомогою спеціальних функцій і методів._"
   ]
  },
  {
   "cell_type": "markdown",
   "metadata": {
    "tags": []
   },
   "source": [
    "#### Що ви будете вміти?\n",
    "* обробляти рядки за допомогою спеціальних функцій і методів Python;\n",
    "* сумісно обробляти рядки і списки."
   ]
  },
  {
   "cell_type": "markdown",
   "metadata": {},
   "source": [
    "### Завдання 1"
   ]
  },
  {
   "cell_type": "markdown",
   "metadata": {},
   "source": [
    "Ви вже знайомі з шифром Цезаря, і тому ми хочемо, щоб Ви покращили код, який ми нещодавно показували.\n",
    "\n",
    "Вихідний шифр Цезаря зрушує кожен символ однією: a стає b, z стає a, тощо. Давайте зробимо його трохи складнішим і дозволимо зміщеному значенню вийти з діапазону 1-25 включно.\n",
    "\n",
    "Крім того, нехай код зберігає регістр літер (малі літери залишаться малими), а всі неалфавітні символи повинні залишитися без змін.\n",
    "\n",
    "Ваше завдання - написати програму, яка:\n",
    "\n",
    "запитує у користувача рядок, який треба зашифрувати;\n",
    "запитує користувача значення зсуву (ціле число з діапазону 1-25 - примітка: Ви повинні змусити користувача ввести дійсне значення зсуву (не здавайтеся і не дозволяйте некоректним даним обдурити Вас);\n",
    "друкує закодований текст.\n",
    "Протестуйте свій код, використовуючи надані нами дані."
   ]
  },
  {
   "cell_type": "code",
   "execution_count": 8,
   "metadata": {},
   "outputs": [
    {
     "name": "stdout",
     "output_type": "stream",
     "text": [
      "Enter a string to encrypt: London is the capital city of England and the United Kingdom.\n",
      "Enter the value of the shift, 1-25: 12,3\n",
      "Please enter an integer.\n",
      "Enter the value of the shift, 1-25: 34\n",
      "The shift should be in the range of 1-25.\n",
      "Enter the value of the shift, 1-25: 3\n",
      "Encrypted text: Orqgrq lv wkh fdslwdo flwb ri Hqjodqg dqg wkh Xqlwhg Nlqjgrp.\n"
     ]
    }
   ],
   "source": [
    "def caesar(text, shift):\n",
    "    result = \"\"\n",
    "    for char in text:\n",
    "        if char.isalpha():\n",
    "            start = ord('a') if char.islower() else ord('A')\n",
    "            result += chr((ord(char) - start + shift) % 26 + start)\n",
    "        else:\n",
    "            result += char\n",
    "    return result\n",
    "\n",
    "def get_valid_shift():\n",
    "    while True:\n",
    "        try:\n",
    "            shift = int(input(\"Enter the value of the shift, 1-25: \"))\n",
    "            if 1 <= shift <= 25:\n",
    "                return shift\n",
    "            else:\n",
    "                print(\"The shift should be in the range of 1-25.\")\n",
    "        except ValueError:\n",
    "            print(\"Please enter an integer.\")\n",
    "\n",
    "def main():\n",
    "    text = input(\"Enter a string to encrypt: \")\n",
    "    shift = get_valid_shift()\n",
    "    encrypted_text = caesar(text, shift)\n",
    "    print(\"Encrypted text:\", encrypted_text)\n",
    "\n",
    "main()"
   ]
  },
  {
   "cell_type": "markdown",
   "metadata": {},
   "source": [
    "### Завдання для самостіної роботи\n",
    "\n",
    "1. Виконати приклади 1-4 і завдання 1, наведені вище у цьому зошиті.\n",
    "\n",
    "1. Створити файл __lab_9_StudentLastName.py__ з написаним кодом. \n",
    "\n",
    "1. Закомітити файл у локальний репозиторій.\n",
    "\n",
    "1. Відправити (\"запушити\") поточну версію Git-проєкта у віддалений репозиторій на GitHub.\n",
    "\n",
    "1. Звіт має складатися з файлу (за основу взяти __цей Python-зошит__)  `lab_9_StudentLastName.ipynb`. (Можливі якісь додакові файли)"
   ]
  },
  {
   "attachments": {
    "1e0fc363-b077-4e50-931b-e568c036908e.png": {
     "image/png": "[encoded data removed]"
    },
    "5dae1388-0b17-4710-af73-eb6d2a6c113c.png": {
     "image/png": "[encoded data removed]"
    },
    "ffeff26d-8f6e-4581-9d0d-9b1f63daa4ec.png": {
     "image/png": "[encoded data removed]"
    }
   },
   "cell_type": "markdown",
   "metadata": {},
   "source": [
    "### Контрольні запитання\n",
    "\n",
    "1. Який із наступних рядків описує справжню умову?\n",
    "\n",
    "![](attachment:5dae1388-0b17-4710-af73-eb6d2a6c113c.png)\n",
    "* '11' < '8' true. Порівнюються символи і  ASCII-код '1' менше '8'.\n",
    "\n",
    "1. Який очікуваний результат наступного коду?\n",
    "\n",
    "![](attachment:ffeff26d-8f6e-4581-9d0d-9b1f63daa4ec.png)\n",
    "* are, оскільки є другим за алфавітом словом у вихідному рядку 's1'.\n",
    "\n",
    "1. Який очікуваний результат наступного коду?\n",
    "\n",
    "![](attachment:1e0fc363-b077-4e50-931b-e568c036908e.png)\n",
    "* ValueError, оскільки s1 число з комою не може бути коректно перетворено у ціле число."
   ]
  }
 ],
 "metadata": {
  "kernelspec": {
   "display_name": "Python 3 (ipykernel)",
   "language": "python",
   "name": "python3"
  },
  "language_info": {
   "codemirror_mode": {
    "name": "ipython",
    "version": 3
   },
   "file_extension": ".py",
   "mimetype": "text/x-python",
   "name": "python",
   "nbconvert_exporter": "python",
   "pygments_lexer": "ipython3",
   "version": "3.11.5"
  }
 },
 "nbformat": 4,
 "nbformat_minor": 4
}
