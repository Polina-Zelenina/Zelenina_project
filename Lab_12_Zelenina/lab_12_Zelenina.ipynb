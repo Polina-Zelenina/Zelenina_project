{
 "cells": [
  {
   "cell_type": "markdown",
   "metadata": {},
   "source": [
    "---\n",
    "title: \"Лабораторна робота №12. Об'єктно-орієнтоване програмування. Частина ІІ\"\n",
    "description:\n",
    "author: \"&copy; [Zelenina Polina](https://github.com/Polina-Zelenina/Zelenina_project), 2023\"\n",
    "date: \"30.11.2023\"\n",
    "lang: ukr\n",
    "format:\n",
    "  html:\n",
    "    code-fold: true\n",
    "    toc: true # меню\n",
    "    toc_float: # спливаюче меню  \n",
    "      collapsed: true # fdnj\n",
    "      number_sections: true\n",
    "jupyter: python3\n",
    "---"
   ]
  },
  {
   "cell_type": "markdown",
   "metadata": {},
   "source": [
    "__Мета:__ _навчитися програмувати в стилі об'єектно-орієнтованого програмування._"
   ]
  },
  {
   "cell_type": "markdown",
   "metadata": {
    "tags": []
   },
   "source": [
    "#### Що ви будете вміти?\n",
    "* створювати класи та об'єкти у Python;\n",
    "* реалізувати механізми інкапсуляції та наслідування;\n",
    "* визначати та використовувати змінні екземпляра;\n",
    "* визначати та використовувати методи;\n",
    "* використовувати композицію."
   ]
  },
  {
   "cell_type": "markdown",
   "metadata": {},
   "source": [
    "## Основи об'єктно-орієнтованого програмування на Python. Метод __str()__"
   ]
  },
  {
   "cell_type": "markdown",
   "metadata": {},
   "source": [
    "## Використання композиції"
   ]
  },
  {
   "cell_type": "markdown",
   "metadata": {},
   "source": [
    "### Завдання 1"
   ]
  },
  {
   "cell_type": "markdown",
   "metadata": {},
   "source": [
    "Тепер ми збираємося вбудувати клас `Point` (див. попереднє завдання) в інший клас. Крім того, ми збираємося помістити три точки в один клас, що дозволить нам визначити трикутник. Як ми можемо це зробити?\n",
    "\n",
    "Новий клас буде називатися `Triangle`, і ось, що нам потрібно:\n",
    "\n",
    "* конструктор приймає три аргументи -- вони є об'єктами класу `Point`;\n",
    "* точки зберігаються всередині об'єкта як список;\n",
    "* клас надає метод без параметрів з назвою `perimeter()`, який обчислює периметр трикутника, описаного трьома точками; периметр – це сума довжин усіх сторін (це просто нагадування, хоча ми впевнені, що Ви самі це чудово знаєте).\n",
    "\n",
    "Доповніть шаблон, який ми надали в редакторі. Запустіть свій код і перевірте, чи збігається оцінюваний периметр з нашим.\n",
    "\n",
    "Нижче Ви можете скопіювати код класу `Point`, який ми використовували у попередній лабораторній роботі:"
   ]
  },
  {
   "cell_type": "code",
   "execution_count": 12,
   "metadata": {},
   "outputs": [],
   "source": [
    "class Point:\n",
    "    def __init__(self, x=0.0, y=0.0):\n",
    "        self.__x = x\n",
    "        self.__y = y"
   ]
  },
  {
   "cell_type": "markdown",
   "metadata": {},
   "source": [
    "Очікуваний вивод:  \n",
    "\n",
    "`3.414213562373095`\n"
   ]
  },
  {
   "cell_type": "code",
   "execution_count": 1,
   "metadata": {},
   "outputs": [
    {
     "name": "stdout",
     "output_type": "stream",
     "text": [
      "3.414213562373095\n"
     ]
    }
   ],
   "source": [
    "from math import hypot as hy\n",
    "\n",
    "\n",
    "class Point:\n",
    "    def __init__(self, x=0.0, y=0.0):\n",
    "        self.x = x\n",
    "        self.y = y\n",
    "\n",
    "    def getx(self):\n",
    "        return self.x\n",
    "\n",
    "    def gety(self):\n",
    "        return self.y\n",
    "\n",
    "    def distance_from_xy(self, x, y):\n",
    "        return hy(self.x - x, self.y - y)\n",
    "\n",
    "    def distance_from_point(self, point):\n",
    "        return self.distance_from_xy(point.getx(), point.gety())\n",
    "\n",
    "\n",
    "class Triangle:\n",
    "    def __init__(self, vertice1, vertice2, vertice3):\n",
    "        self.__vertices = [vertice1, vertice2, vertice3]\n",
    "\n",
    "    def perimeter(self):\n",
    "        side1 = self.__vertices[0].distance_from_point(self.__vertices[1])\n",
    "        side2 = self.__vertices[1].distance_from_point(self.__vertices[2])\n",
    "        side3 = self.__vertices[2].distance_from_point(self.__vertices[0])\n",
    "        return side1 + side2 + side3\n",
    "\n",
    "\n",
    "triangle = Triangle(Point(0, 0), Point(1, 0), Point(0, 1))\n",
    "print(triangle.perimeter())"
   ]
  },
  {
   "cell_type": "markdown",
   "metadata": {},
   "source": [
    "### Завдання для самостіної роботи\n",
    "\n",
    "1. Виконати приклади 1-3 і завдання 1, наведені вище у цьому зошиті.\n",
    "\n",
    "1. Створити файл __lab_12_StudentLastName.py__ з написаним кодом. \n",
    "\n",
    "1. Закомітити файл у локальний репозиторій.\n",
    "\n",
    "1. Відправити (\"запушити\") поточну версію Git-проєкта у віддалений репозиторій на GitHub.\n",
    "\n",
    "1. Звіт має складатися з файлу (за основу взяти __цей Python-зошит__)  `lab_12_StudentLastName.ipynb`. (Можливі якісь додакові файли)"
   ]
  },
  {
   "cell_type": "markdown",
   "metadata": {},
   "source": [
    "### Контрольні запитання\n",
    "\n",
    "Припустимо, що наступний фрагмент коду успішно виконано:"
   ]
  },
  {
   "cell_type": "code",
   "execution_count": 16,
   "metadata": {},
   "outputs": [],
   "source": [
    "class Dog: \n",
    "    kennel = 0 \n",
    "    def __init__(self, breed): \n",
    "        self.breed = breed \n",
    "        Dog.kennel += 1 \n",
    "\n",
    "    def __str__(self): \n",
    "        return self.breed + \" says: Woof!\" \n",
    "\n",
    "\n",
    "class SheepDog(Dog): \n",
    "    def __str__(self): \n",
    "        return super().__str__() + \" Don't run away, Little Lamb!\" \n",
    "\n",
    "\n",
    "class GuardDog(Dog): \n",
    "     def __str__(self): \n",
    "         return super().__str__() + \" Stay where you are, Mister Intruder!\" \n",
    "\n",
    "rocky = SheepDog(\"Collie\") \n",
    "luna = GuardDog(\"Dobermann\") "
   ]
  },
  {
   "cell_type": "markdown",
   "metadata": {},
   "source": [
    "1. Який очікуваний вивід наступного фрагмента коду?\n",
    "\n",
    "`print(rocky)` \n",
    "`print(luna)`\n",
    "\n",
    "* Collie says: Woof! Don't run away, Little Lamb!\n",
    "* Dobermann says: Woof! Stay where you are, Mister Intruder!\n",
    "2. Який очікуваний вивід наступного фрагмента коду?\n",
    "\n",
    "`print(issubclass(SheepDog, Dog), issubclass(SheepDog, GuardDog))`   \n",
    "`print(isinstance(rocky, GuardDog), isinstance(luna, GuardDog))`\n",
    "* True False\n",
    "* False True"
   ]
  }
 ],
 "metadata": {
  "kernelspec": {
   "display_name": "Python 3 (ipykernel)",
   "language": "python",
   "name": "python3"
  },
  "language_info": {
   "codemirror_mode": {
    "name": "ipython",
    "version": 3
   },
   "file_extension": ".py",
   "mimetype": "text/x-python",
   "name": "python",
   "nbconvert_exporter": "python",
   "pygments_lexer": "ipython3",
   "version": "3.11.5"
  }
 },
 "nbformat": 4,
 "nbformat_minor": 4
}
